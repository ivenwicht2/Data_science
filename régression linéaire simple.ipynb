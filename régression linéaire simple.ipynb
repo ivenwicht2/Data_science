{
 "cells": [
  {
   "cell_type": "code",
   "execution_count": 44,
   "metadata": {},
   "outputs": [],
   "source": [
    "import numpy as np\n",
    "import matplotlib.pyplot as mt"
   ]
  },
  {
   "cell_type": "code",
   "execution_count": 45,
   "metadata": {},
   "outputs": [],
   "source": [
    "X = [3213,2089,2253,1801,801,1934,1720,1514,1017]\n",
    "Y = [23,21,25,18,13,16,13,17,12]"
   ]
  },
  {
   "cell_type": "code",
   "execution_count": 47,
   "metadata": {},
   "outputs": [
    {
     "data": {
      "image/png": "[encoded data removed]",
      "text/plain": [
       "<Figure size 432x288 with 1 Axes>"
      ]
     },
     "metadata": {
      "needs_background": "light"
     },
     "output_type": "display_data"
    }
   ],
   "source": [
    "mt.scatter(X,Y,s=100)\n",
    "mt.show()"
   ]
  },
  {
   "cell_type": "code",
   "execution_count": 48,
   "metadata": {},
   "outputs": [],
   "source": [
    "medianX = np.median(X)\n",
    "medianY = np.median(Y)"
   ]
  },
  {
   "cell_type": "code",
   "execution_count": 49,
   "metadata": {},
   "outputs": [
    {
     "name": "stdout",
     "output_type": "stream",
     "text": [
      "[1412.0, 288.0, 452.0, 0.0, -1000.0, 133.0, -81.0, -287.0, -784.0]\n",
      "[6.0, 4.0, 8.0, 1.0, -4.0, -1.0, -4.0, 0.0, -5.0]\n"
     ]
    }
   ],
   "source": [
    "sX = []\n",
    "sY = []\n",
    "for i in X:\n",
    "    sX.append(i-medianX)\n",
    "for i in Y:\n",
    "    sY.append(i-medianY)\n",
    "print(sX)\n",
    "print(sY)"
   ]
  },
  {
   "cell_type": "code",
   "execution_count": 50,
   "metadata": {},
   "outputs": [
    {
     "name": "stdout",
     "output_type": "stream",
     "text": [
      "4002267.0\n"
     ]
    }
   ],
   "source": [
    "sommeC =0\n",
    "for i in sX:\n",
    "    sommeC += i*i\n",
    "print(sommeC)"
   ]
  },
  {
   "cell_type": "code",
   "execution_count": 51,
   "metadata": {},
   "outputs": [
    {
     "name": "stdout",
     "output_type": "stream",
     "text": [
      "21351.0\n"
     ]
    }
   ],
   "source": [
    "poly = 0\n",
    "for x,y in zip(sX,sY):\n",
    "    poly += x*y\n",
    "print(poly)"
   ]
  },
  {
   "cell_type": "code",
   "execution_count": 52,
   "metadata": {},
   "outputs": [],
   "source": [
    "m = poly/sommeC"
   ]
  },
  {
   "cell_type": "code",
   "execution_count": 53,
   "metadata": {},
   "outputs": [
    {
     "name": "stdout",
     "output_type": "stream",
     "text": [
      "7.392157494739857\n"
     ]
    }
   ],
   "source": [
    "c = medianY - (m*medianX)\n",
    "print(c)"
   ]
  },
  {
   "cell_type": "code",
   "execution_count": 54,
   "metadata": {},
   "outputs": [],
   "source": [
    "courbeY=[]\n",
    "for i in X:\n",
    "    courbeY.append(c+(i*m))\n"
   ]
  },
  {
   "cell_type": "code",
   "execution_count": 55,
   "metadata": {},
   "outputs": [
    {
     "data": {
      "image/png": "[encoded data removed]",
      "text/plain": [
       "<Figure size 432x288 with 1 Axes>"
      ]
     },
     "metadata": {
      "needs_background": "light"
     },
     "output_type": "display_data"
    }
   ],
   "source": [
    "mt.scatter(X,Y,s=100)\n",
    "mt.plot(X, courbeY)\n",
    "mt.show()"
   ]
  }
 ],
 "metadata": {
  "kernelspec": {
   "display_name": "Python 3",
   "language": "python",
   "name": "python3"
  },
  "language_info": {
   "codemirror_mode": {
    "name": "ipython",
    "version": 3
   },
   "file_extension": ".py",
   "mimetype": "text/x-python",
   "name": "python",
   "nbconvert_exporter": "python",
   "pygments_lexer": "ipython3",
   "version": "3.6.8"
  }
 },
 "nbformat": 4,
 "nbformat_minor": 2
}
